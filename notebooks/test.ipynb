{
  "nbformat": 4,
  "nbformat_minor": 0,
  "metadata": {
    "colab": {
      "name": "test.ipynb",
      "provenance": [],
      "authorship_tag": "ABX9TyMcQP5Qdw91Jrcv8jguoyzt",
      "include_colab_link": true
    },
    "kernelspec": {
      "name": "python3",
      "display_name": "Python 3"
    }
  },
  "cells": [
    {
      "cell_type": "markdown",
      "metadata": {
        "id": "view-in-github",
        "colab_type": "text"
      },
      "source": [
        "<a href=\"https://colab.research.google.com/github/hhiraba/exercises/blob/master/notebooks/test.ipynb\" target=\"_parent\"><img src=\"https://colab.research.google.com/assets/colab-badge.svg\" alt=\"Open In Colab\"/></a>"
      ]
    },
    {
      "cell_type": "code",
      "metadata": {
        "id": "KTAHBYR7AuFo",
        "colab_type": "code",
        "colab": {}
      },
      "source": [
        "# !pip install matplotlib numpy scikit-image Pillow torch torchvision\n",
        "import torch\n",
        "import torch.nn as nn"
      ],
      "execution_count": 0,
      "outputs": []
    },
    {
      "cell_type": "code",
      "metadata": {
        "id": "YGf9w7g0A3mi",
        "colab_type": "code",
        "colab": {}
      },
      "source": [
        "class MyModule(nn.Module):\n",
        "  def __init__(self):\n",
        "    super().__init__()\n",
        "    self.conv1 = nn.Conv2d(1, 32, (3, 3))\n",
        "    self.relu1 = nn.ReLU()\n",
        "    self.conv2 = nn.Conv2d(32, 64, (3, 3))\n",
        "    self.relu2 = nn.ReLU()\n",
        "    self.pooling = nn.AdaptiveMaxPool2d((3, 3))\n",
        "    self.fc = nn.Conv2d(64, 10, (3, 3))\n",
        "\n",
        "  def forward(self, x):\n",
        "    x = self.conv1(x)\n",
        "    x = self.relu1(x)\n",
        "    x = self.conv2(x)\n",
        "    x = self.relu2(x)\n",
        "    x = self.pooling(x)\n",
        "    return self.fc(x)\n",
        "  "
      ],
      "execution_count": 0,
      "outputs": []
    },
    {
      "cell_type": "code",
      "metadata": {
        "id": "XLRhKM2rCSZE",
        "colab_type": "code",
        "colab": {}
      },
      "source": [
        "mod = MyModule()"
      ],
      "execution_count": 0,
      "outputs": []
    },
    {
      "cell_type": "code",
      "metadata": {
        "id": "U_30sNpUCUXT",
        "colab_type": "code",
        "colab": {
          "base_uri": "https://localhost:8080/",
          "height": 1000
        },
        "outputId": "4ed1cba2-f949-448e-e4c3-930ea466d639"
      },
      "source": [
        "in_ = torch.rand((4, 1, 28, 28))\n",
        "mod(in_)"
      ],
      "execution_count": 4,
      "outputs": [
        {
          "output_type": "execute_result",
          "data": {
            "text/plain": [
              "tensor([[[[-0.1100]],\n",
              "\n",
              "         [[-0.0279]],\n",
              "\n",
              "         [[ 0.0958]],\n",
              "\n",
              "         [[ 0.2137]],\n",
              "\n",
              "         [[ 0.1385]],\n",
              "\n",
              "         [[ 0.0478]],\n",
              "\n",
              "         [[ 0.3245]],\n",
              "\n",
              "         [[ 0.2312]],\n",
              "\n",
              "         [[ 0.0236]],\n",
              "\n",
              "         [[-0.0171]]],\n",
              "\n",
              "\n",
              "        [[[-0.1073]],\n",
              "\n",
              "         [[-0.0525]],\n",
              "\n",
              "         [[ 0.0821]],\n",
              "\n",
              "         [[ 0.1957]],\n",
              "\n",
              "         [[ 0.1503]],\n",
              "\n",
              "         [[ 0.0697]],\n",
              "\n",
              "         [[ 0.3486]],\n",
              "\n",
              "         [[ 0.2220]],\n",
              "\n",
              "         [[ 0.0243]],\n",
              "\n",
              "         [[-0.0040]]],\n",
              "\n",
              "\n",
              "        [[[-0.0914]],\n",
              "\n",
              "         [[-0.0460]],\n",
              "\n",
              "         [[ 0.0908]],\n",
              "\n",
              "         [[ 0.2010]],\n",
              "\n",
              "         [[ 0.1627]],\n",
              "\n",
              "         [[ 0.0484]],\n",
              "\n",
              "         [[ 0.3625]],\n",
              "\n",
              "         [[ 0.2276]],\n",
              "\n",
              "         [[ 0.0230]],\n",
              "\n",
              "         [[ 0.0335]]],\n",
              "\n",
              "\n",
              "        [[[-0.0902]],\n",
              "\n",
              "         [[-0.0451]],\n",
              "\n",
              "         [[ 0.0831]],\n",
              "\n",
              "         [[ 0.2361]],\n",
              "\n",
              "         [[ 0.1462]],\n",
              "\n",
              "         [[ 0.0540]],\n",
              "\n",
              "         [[ 0.3426]],\n",
              "\n",
              "         [[ 0.2627]],\n",
              "\n",
              "         [[ 0.0356]],\n",
              "\n",
              "         [[ 0.0155]]]], grad_fn=<MkldnnConvolutionBackward>)"
            ]
          },
          "metadata": {
            "tags": []
          },
          "execution_count": 4
        }
      ]
    },
    {
      "cell_type": "code",
      "metadata": {
        "id": "3-Angkq9CrBH",
        "colab_type": "code",
        "colab": {}
      },
      "source": [
        ""
      ],
      "execution_count": 0,
      "outputs": []
    }
  ]
}