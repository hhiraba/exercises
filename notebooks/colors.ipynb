{
 "cells": [
  {
   "cell_type": "code",
   "execution_count": 1,
   "metadata": {},
   "outputs": [],
   "source": [
    "import colorsys\n",
    "from PIL import Image, ImageDraw"
   ]
  },
  {
   "cell_type": "code",
   "execution_count": 2,
   "metadata": {},
   "outputs": [
    {
     "data": {
      "text/plain": [
       "[<Color: #666666 RGB=(102, 102, 102) HSL=(0.0, 0.4, 0.0),\n",
       " <Color: #ff4097 RGB=(255, 64, 151) HSL=(0.9240837696335078, 0.6254901960784314, 1.0),\n",
       " <Color: #00ffcc RGB=(0, 255, 204) HSL=(0.4666666666666666, 0.5, 1.0),\n",
       " <Color: #f7ff40 RGB=(247, 255, 64) HSL=(0.1736474694589878, 0.6254901960784314, 1.0),\n",
       " <Color: #4989ff RGB=(73, 137, 255) HSL=(0.6080586080586081, 0.6431372549019607, 1.0),\n",
       " <Color: #ff9f92 RGB=(255, 159, 146) HSL=(0.019877675840978604, 0.7862745098039216, 1.0),\n",
       " <Color: #80d8ff RGB=(128, 216, 255) HSL=(0.5511811023622047, 0.7509803921568627, 1.0),\n",
       " <Color: #ffffff RGB=(255, 255, 255) HSL=(0.0, 1.0, 0.0)]"
      ]
     },
     "execution_count": 2,
     "metadata": {},
     "output_type": "execute_result"
    }
   ],
   "source": [
    "class Color:\n",
    "    def __init__(self, hexexpr):\n",
    "        self._hexexpr = hexexpr\n",
    "        \n",
    "    def __repr__(self):\n",
    "        return f'<Color: {self._hexexpr} RGB={self.rgb} HSL={self.hls}'\n",
    "    \n",
    "    @property\n",
    "    def hex(self):\n",
    "        return self._hexexpr\n",
    "    \n",
    "    @property\n",
    "    def rgb(self):\n",
    "        return hex2rgb(self._hexexpr)\n",
    "\n",
    "    @property\n",
    "    def rgb_f(self):\n",
    "        return hex2rgb_f(self._hexexpr)\n",
    "    \n",
    "    @property\n",
    "    def hls(self):\n",
    "        return colorsys.rgb_to_hls(*self.rgb_f)\n",
    "\n",
    "    @classmethod\n",
    "    def mix(cls, color1, color2, alpha):\n",
    "        beta = 1.0 - alpha\n",
    "        mixed = [rdi(alpha * v1 + beta * v2) for v1, v2 in zip(color1.rgb, color2.rgb)]\n",
    "        # mixed = colorsys.hls_to_rgb(*[alpha * v1 + beta * v2 for v1, v2 in zip(color1.hls, color2.hls)])\n",
    "        return cls(rgb2hex(*mixed))\n",
    "    \n",
    "    def tint(self, rate):\n",
    "        h, l, s = self.hls\n",
    "        return Color(rgb2hex(*rdiseq(colorsys.hls_to_rgb(h, l, s * rate), scale=1.0 / 255)))\n",
    "    \n",
    "    \n",
    "def rdi(v, scale=1.0):\n",
    "    return int(round(v / scale))\n",
    "\n",
    "def rdiseq(vs, scale=1.0):\n",
    "    return [rdi(v, scale) for v in vs]\n",
    "\n",
    "def hex2rgb(hexexpr):\n",
    "    r = int(hexexpr[1:3], base=16)\n",
    "    g = int(hexexpr[3:5], base=16)\n",
    "    b = int(hexexpr[5:7], base=16)\n",
    "    return r, g, b\n",
    "\n",
    "def hex2rgb_f(hexexpr, scale=255):\n",
    "    rgb = hex2rgb(hexexpr)\n",
    "    return tuple([v / scale for v in rgb])\n",
    "\n",
    "def rgb2hex(r, g, b):\n",
    "    return f'#{r:02x}{g:02x}{b:02x}'\n",
    "\n",
    "def mix(c1, c2, alpha):\n",
    "    beta = 1.0 - alpha\n",
    "    return [alpha * v1 + beta * v2\n",
    "            for v1, v2 in zip(c1, c2)]\n",
    "\n",
    "colors_hex = [\n",
    "    \"#666666\",\n",
    "    \"#ff4097\",\n",
    "    \"#00ffcc\",\n",
    "    \"#f7ff40\",\n",
    "    \"#4989ff\",\n",
    "    \"#ff9f92\",\n",
    "    \"#80d8ff\",\n",
    "    \"#ffffff\"\n",
    "]\n",
    "\n",
    "colors = [Color(c) for c in colors_hex]\n",
    "colors"
   ]
  },
  {
   "cell_type": "code",
   "execution_count": 3,
   "metadata": {},
   "outputs": [
    {
     "data": {
      "text/plain": [
       "<Color: #4df44d RGB=(77, 244, 77) HSL=(0.3333333333333333, 0.6294117647058823, 0.8835978835978839)"
      ]
     },
     "execution_count": 3,
     "metadata": {},
     "output_type": "execute_result"
    }
   ],
   "source": [
    "Color.mix(Color(\"#00f000\"), Color(\"#ffffff\"), 0.7)"
   ]
  },
  {
   "cell_type": "code",
   "execution_count": 6,
   "metadata": {},
   "outputs": [
    {
     "name": "stdout",
     "output_type": "stream",
     "text": [
      "<Color: #1a1a20 RGB=(26, 26, 32) HSL=(0.6666666666666666, 0.11372549019607843, 0.10344827586206896)\n"
     ]
    },
    {
     "data": {
      "text/plain": [
       "[['#666666',\n",
       "  '#ff4097',\n",
       "  '#00ffcc',\n",
       "  '#f7ff40',\n",
       "  '#4989ff',\n",
       "  '#ff9f92',\n",
       "  '#80d8ff',\n",
       "  '#ffffff'],\n",
       " ['#4f4f51',\n",
       "  '#ba3573',\n",
       "  '#08ba98',\n",
       "  '#b5ba36',\n",
       "  '#3b68bc',\n",
       "  '#ba7770',\n",
       "  '#619fbc',\n",
       "  '#bababc'],\n",
       " ['#29292e',\n",
       "  '#482238',\n",
       "  '#154842',\n",
       "  '#464826',\n",
       "  '#23304d',\n",
       "  '#483537',\n",
       "  '#2e404d',\n",
       "  '#48484d']]"
      ]
     },
     "execution_count": 6,
     "metadata": {},
     "output_type": "execute_result"
    }
   ],
   "source": [
    "bg_color = Color('#1a1a20')\n",
    "print(bg_color)\n",
    "\n",
    "palette = [\n",
    "    colors,\n",
    "    [Color.mix(c, bg_color, 0.7) for c in colors],\n",
    "    [Color.mix(c, bg_color, 0.2) for c in colors]\n",
    "]\n",
    "\n",
    "[[c.hex for c in p] for p in palette]"
   ]
  },
  {
   "cell_type": "code",
   "execution_count": 7,
   "metadata": {},
   "outputs": [
    {
     "data": {
      "image/png": "[encoded data removed]",
      "text/plain": [
       "<PIL.Image.Image image mode=RGB size=410x160 at 0x7FDBB803C2E8>"
      ]
     },
     "execution_count": 7,
     "metadata": {},
     "output_type": "execute_result"
    }
   ],
   "source": [
    "width = 40\n",
    "margin = 10\n",
    "n_colors = len(colors)\n",
    "n_dims = len(palette)\n",
    "imwidth = margin + n_colors * (width + margin)\n",
    "imheight = margin + n_dims * (width + margin)\n",
    "\n",
    "canvas = Image.new('RGB', (imwidth, imheight), (0, 0, 0))\n",
    "draw = ImageDraw.Draw(canvas)\n",
    "\n",
    "for i, p in enumerate(palette):\n",
    "    y = margin + i * (width + margin)\n",
    "    for j, c in enumerate(p):\n",
    "        x = margin + j * (width + margin)\n",
    "        draw.rectangle([x, y, x + width, y + width], fill=c.rgb)\n",
    "        \n",
    "canvas"
   ]
  },
  {
   "cell_type": "code",
   "execution_count": null,
   "metadata": {},
   "outputs": [],
   "source": []
  },
  {
   "cell_type": "code",
   "execution_count": null,
   "metadata": {},
   "outputs": [],
   "source": []
  }
 ],
 "metadata": {
  "kernelspec": {
   "display_name": "Python 3",
   "language": "python",
   "name": "python3"
  },
  "language_info": {
   "codemirror_mode": {
    "name": "ipython",
    "version": 3
   },
   "file_extension": ".py",
   "mimetype": "text/x-python",
   "name": "python",
   "nbconvert_exporter": "python",
   "pygments_lexer": "ipython3",
   "version": "3.6.9"
  }
 },
 "nbformat": 4,
 "nbformat_minor": 4
}
